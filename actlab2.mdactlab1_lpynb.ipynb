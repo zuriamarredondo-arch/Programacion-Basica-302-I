{
  "nbformat": 4,
  "nbformat_minor": 0,
  "metadata": {
    "colab": {
      "provenance": [],
      "authorship_tag": "ABX9TyPW2yr+51GUByNJ0+VI3xim",
      "include_colab_link": true
    },
    "kernelspec": {
      "name": "python3",
      "display_name": "Python 3"
    },
    "language_info": {
      "name": "python"
    }
  },
  "cells": [
    {
      "cell_type": "markdown",
      "metadata": {
        "id": "view-in-github",
        "colab_type": "text"
      },
      "source": [
        "<a href=\"https://colab.research.google.com/github/zuriamarredondo-arch/Programacion-Basica-302-I/blob/main/actlab2.mdactlab1_lpynb.ipynb\" target=\"_parent\"><img src=\"https://colab.research.google.com/assets/colab-badge.svg\" alt=\"Open In Colab\"/></a>"
      ]
    },
    {
      "cell_type": "markdown",
      "source": [],
      "metadata": {
        "id": "5LMM3rMnmV0u"
      }
    },
    {
      "cell_type": "markdown",
      "source": [
        "Actividad de Laboratorio 1"
      ],
      "metadata": {
        "id": "eWFJp_a9xzxJ"
      }
    },
    {
      "cell_type": "markdown",
      "source": [
        "PB302_.CPP Programa para Bienvenida"
      ],
      "metadata": {
        "id": "tyiupoR2mXiG"
      }
    },
    {
      "cell_type": "code",
      "execution_count": null,
      "metadata": {
        "colab": {
          "base_uri": "https://localhost:8080/"
        },
        "id": "2rqeMsV4lqpJ",
        "outputId": "13f2ff5c-11ad-42cf-f7d3-c4be8fc403ec"
      },
      "outputs": [
        {
          "output_type": "stream",
          "name": "stdout",
          "text": [
            "Overwriting PB302_1.cpp\n"
          ]
        }
      ],
      "source": [
        "%%writefile PB302_1.cpp\n",
        "//Progrma para imprimir mensaje de bienvenida\n",
        "//Creado por Zuria Mariana Arredondo Lopez\n",
        "//Fecha:20/02/09\n",
        "//PB302_1.cpp\n",
        "#include <iostream>\n",
        "using namespace std;\n",
        "int main()\n",
        "{\n",
        "  cout<<\"Bienvenida Mariana a Programacion Basica en C++\\n\";\n",
        "  cout<<\"Gracias por Programar en clase\";\n",
        "  return 0;\n",
        "}"
      ]
    },
    {
      "cell_type": "code",
      "source": [
        "!g++ PB302_1.cpp -o PB302_1\n",
        "!./PB302_1"
      ],
      "metadata": {
        "colab": {
          "base_uri": "https://localhost:8080/"
        },
        "id": "ZlBo9zNGqUrh",
        "outputId": "4866af18-51f1-4ad2-df92-097d8e2b871e"
      },
      "execution_count": null,
      "outputs": [
        {
          "output_type": "stream",
          "name": "stdout",
          "text": [
            "Bienvenida Mariana a Programacion Basica en C++\n",
            "Gracias por Programar en clase"
          ]
        }
      ]
    },
    {
      "cell_type": "markdown",
      "source": [
        "PB302_2.cpp Programa para imprimir datos personales"
      ],
      "metadata": {
        "id": "ofE_aBMUqzs0"
      }
    },
    {
      "cell_type": "code",
      "source": [
        "%%writefile PB302_2.cpp\n",
        "//Programa para mostrar datos personales\n",
        "//Creado por Zuria Mariana Arredondo Lopez\n",
        "//Fecha:18/sep/25\n",
        "//PB302_2.cpp\n",
        "#include <iostream>\n",
        "using namespace std;\n",
        "int main()\n",
        "{\n",
        "  char nombre[10]=\"Mariana\";\n",
        "  char paterno[15]=\"Arredondo\";\n",
        "  char materno[9]=\"Lopez\";\n",
        "  int edad=16;\n",
        "  char direccion[50]=\"Emiliano zapata 929\";\n",
        "  char fechanac[19]=\"20/02/09\";\n",
        "  char ciudadnac[20]=\"ciudad juarez\";\n",
        "\n",
        "  cout<<\"Nobre completo:\\n\";\n",
        "  cout<<nombre<<\"\\n\";\n",
        "  cout<<paterno<<\"\\n\";\n",
        "  cout<<materno<<\"\\n\";\n",
        "  cout<<edad<<\"\\n\";\n",
        "  cout<<direccion<<\"\\n\";\n",
        "  cout<<fechanac<<\"\\n\";\n",
        "  cout<<ciudadnac<<\"\\n\";\n",
        "  return 0;\n",
        "}"
      ],
      "metadata": {
        "colab": {
          "base_uri": "https://localhost:8080/"
        },
        "id": "FngczKEHrFYM",
        "outputId": "57f34153-e4ec-4d2a-f146-3096b07e72dd"
      },
      "execution_count": 18,
      "outputs": [
        {
          "output_type": "stream",
          "name": "stdout",
          "text": [
            "Overwriting PB302_2.cpp\n"
          ]
        }
      ]
    },
    {
      "cell_type": "code",
      "source": [
        "!g++ PB302_2.cpp -o PB302_2.exe\n",
        "!./PB302_2.exe"
      ],
      "metadata": {
        "colab": {
          "base_uri": "https://localhost:8080/"
        },
        "id": "mwtL3wpPwl6_",
        "outputId": "f30d7eec-fd26-499d-ace4-b6de664a399a"
      },
      "execution_count": 19,
      "outputs": [
        {
          "output_type": "stream",
          "name": "stdout",
          "text": [
            "Nobre completo:\n",
            "Mariana\n",
            "Arredondo\n",
            "Lopez\n",
            "16\n",
            "Emiliano zapata 929\n",
            "20/02/09\n",
            "ciudad juarez\n"
          ]
        }
      ]
    }
  ]
}